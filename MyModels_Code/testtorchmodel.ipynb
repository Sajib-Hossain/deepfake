{
  "nbformat": 4,
  "nbformat_minor": 0,
  "metadata": {
    "colab": {
      "name": "testtorchmodel.ipynb",
      "provenance": []
    },
    "kernelspec": {
      "name": "python3",
      "display_name": "Python 3"
    },
    "language_info": {
      "name": "python"
    },
    "accelerator": "GPU"
  },
  "cells": [
    {
      "cell_type": "code",
      "metadata": {
        "id": "oFQBdGVJBFDw"
      },
      "source": [
        "import torch\n",
        "import torch.nn as nn\n",
        "from torchvision.transforms import transforms\n",
        "import numpy as np\n",
        "from torch.autograd import Variable\n",
        "from torchvision.models import squeezenet1_1\n",
        "import torch.functional as F\n",
        "from io import open\n",
        "import os\n",
        "from PIL import Image\n",
        "import pathlib\n",
        "import glob\n",
        "import cv2"
      ],
      "execution_count": 14,
      "outputs": []
    },
    {
      "cell_type": "code",
      "metadata": {
        "colab": {
          "base_uri": "https://localhost:8080/"
        },
        "id": "wvagONKh5ujs",
        "outputId": "0887b289-3d44-48c9-c1aa-d2f737f52ad9"
      },
      "source": [
        "from google.colab import drive\n",
        "drive.mount('/content/drive')"
      ],
      "execution_count": 15,
      "outputs": [
        {
          "output_type": "stream",
          "name": "stdout",
          "text": [
            "Drive already mounted at /content/drive; to attempt to forcibly remount, call drive.mount(\"/content/drive\", force_remount=True).\n"
          ]
        }
      ]
    },
    {
      "cell_type": "code",
      "metadata": {
        "id": "4UKZrJ7JInRb"
      },
      "source": [
        "train_path='/content/drive/My Drive/real_and_fake_face'\n",
        "pred_path='/content/drive/My Drive/test_real_fake'"
      ],
      "execution_count": 16,
      "outputs": []
    },
    {
      "cell_type": "code",
      "metadata": {
        "id": "wvVnczV_I4z6"
      },
      "source": [
        "classes = ['FAKE_FAKE', 'REAL_REAL']"
      ],
      "execution_count": 25,
      "outputs": []
    },
    {
      "cell_type": "code",
      "metadata": {
        "id": "kdDhdk-SPULu"
      },
      "source": [
        "class network(nn.Module):\n",
        "    def __init__(self):\n",
        "        super(network,self).__init__()\n",
        "        self.keep = 0.5\n",
        "\n",
        "        self.conv1=nn.Conv2d(in_channels=3,out_channels=8,kernel_size=3,stride=1,padding=1)\n",
        "        self.bn1=nn.BatchNorm2d(num_features=8)\n",
        "        self.relu1=nn.ReLU()\n",
        "        self.pool1=nn.MaxPool2d(kernel_size=2, stride=2)\n",
        "\n",
        "        self.conv2=nn.Conv2d(in_channels=8,out_channels=16,kernel_size=3,stride=1,padding=1)\n",
        "        self.bn2=nn.BatchNorm2d(num_features=16)\n",
        "        self.relu2=nn.ReLU()\n",
        "\n",
        "        self.conv3=nn.Conv2d(in_channels=16,out_channels=32,kernel_size=3,stride=1,padding=1)\n",
        "        self.bn3=nn.BatchNorm2d(num_features=32)\n",
        "        self.relu3=nn.ReLU()\n",
        "\n",
        "        self.pool2=nn.MaxPool2d(kernel_size=2, stride=2, padding=1)\n",
        "        self.conv4=nn.Conv2d(in_channels=32,out_channels=16,kernel_size=3,stride=1,padding=1)\n",
        "        self.bn4=nn.BatchNorm2d(num_features=16)\n",
        "        self.relu4=nn.ReLU()\n",
        "        \n",
        "\n",
        "        self.flatten = nn.Flatten()\n",
        "\n",
        "        self.fc=nn.Linear(in_features=33*33*16,out_features=625, bias=True)\n",
        "        self.relu5=nn.ReLU()\n",
        "        self.dout=nn.Dropout(p=1 - self.keep)\n",
        "\n",
        "        self.outputs = torch.nn.Linear(625, 2, bias=True)\n",
        "        \n",
        "                \n",
        "    def forward(self,input):\n",
        "        output=self.conv1(input)\n",
        "        output=self.bn1(output)\n",
        "        output=self.relu1(output)\n",
        "            \n",
        "        output=self.pool1(output)\n",
        "            \n",
        "        output=self.conv2(output)\n",
        "        output=self.bn2(output)\n",
        "        output=self.relu2(output)\n",
        "            \n",
        "        output=self.conv3(output)\n",
        "        output=self.bn3(output)\n",
        "        output=self.relu3(output)\n",
        "\n",
        "        output=self.pool2(output)\n",
        "\n",
        "        output=self.conv4(output)\n",
        "        output=self.bn4(output)\n",
        "        output=self.relu4(output)\n",
        "\n",
        "        output=self.flatten(output)\n",
        "                        \n",
        "        #output=output.view(-1,32*75*75)\n",
        "        output=self.fc(output)\n",
        "\n",
        "\n",
        "        output=self.relu5(output)\n",
        "        output=self.dout(output)\n",
        "            \n",
        "            \n",
        "        #output=self.fc(output)\n",
        "        output=self.outputs(output) \n",
        "\n",
        "        return output"
      ],
      "execution_count": 26,
      "outputs": []
    },
    {
      "cell_type": "code",
      "metadata": {
        "colab": {
          "base_uri": "https://localhost:8080/"
        },
        "id": "u5Gv_v0gJJma",
        "outputId": "10e5d517-42e8-483a-96e3-372f9a9b2f0e"
      },
      "source": [
        "model = network()\n",
        "model=torch.load('/content/drive/MyDrive/Models/my_best_model.model', map_location=\"cpu\")\n",
        "# model=network(num_classes=2)\n",
        "# model.load_state_dict(checkpoint)\n",
        "model.eval()"
      ],
      "execution_count": 27,
      "outputs": [
        {
          "output_type": "execute_result",
          "data": {
            "text/plain": [
              "network(\n",
              "  (conv1): Conv2d(3, 8, kernel_size=(3, 3), stride=(1, 1), padding=(1, 1))\n",
              "  (bn1): BatchNorm2d(8, eps=1e-05, momentum=0.1, affine=True, track_running_stats=True)\n",
              "  (relu1): ReLU()\n",
              "  (pool1): MaxPool2d(kernel_size=2, stride=2, padding=0, dilation=1, ceil_mode=False)\n",
              "  (conv2): Conv2d(8, 16, kernel_size=(3, 3), stride=(1, 1), padding=(1, 1))\n",
              "  (bn2): BatchNorm2d(16, eps=1e-05, momentum=0.1, affine=True, track_running_stats=True)\n",
              "  (relu2): ReLU()\n",
              "  (conv3): Conv2d(16, 32, kernel_size=(3, 3), stride=(1, 1), padding=(1, 1))\n",
              "  (bn3): BatchNorm2d(32, eps=1e-05, momentum=0.1, affine=True, track_running_stats=True)\n",
              "  (relu3): ReLU()\n",
              "  (pool2): MaxPool2d(kernel_size=2, stride=2, padding=1, dilation=1, ceil_mode=False)\n",
              "  (conv4): Conv2d(32, 16, kernel_size=(3, 3), stride=(1, 1), padding=(1, 1))\n",
              "  (bn4): BatchNorm2d(16, eps=1e-05, momentum=0.1, affine=True, track_running_stats=True)\n",
              "  (relu4): ReLU()\n",
              "  (flatten): Flatten(start_dim=1, end_dim=-1)\n",
              "  (fc): Linear(in_features=17424, out_features=625, bias=True)\n",
              "  (relu5): ReLU()\n",
              "  (dout): Dropout(p=0.5, inplace=False)\n",
              "  (outputs): Linear(in_features=625, out_features=2, bias=True)\n",
              ")"
            ]
          },
          "metadata": {},
          "execution_count": 27
        }
      ]
    },
    {
      "cell_type": "code",
      "metadata": {
        "id": "S1cJBACQJxKa"
      },
      "source": [
        "transformer=transforms.Compose([\n",
        "    transforms.Resize((128,128)),\n",
        "    transforms.ToTensor(),\n",
        "    transforms.Normalize([0.5,0.5,0.5], \n",
        "                        [0.5,0.5,0.5])\n",
        "])"
      ],
      "execution_count": 28,
      "outputs": []
    },
    {
      "cell_type": "code",
      "metadata": {
        "id": "MnGzF_qULcDa"
      },
      "source": [
        "def prediction(img_path,transformer):\n",
        "    \n",
        "    image=Image.open(img_path)\n",
        "    \n",
        "    image_tensor=transformer(image).float()\n",
        "    \n",
        "    \n",
        "    image_tensor=image_tensor.unsqueeze_(0)\n",
        "    \n",
        "    if torch.cuda.is_available():\n",
        "        image_tensor.cuda()\n",
        "        \n",
        "    input=Variable(image_tensor)\n",
        "    \n",
        "    \n",
        "    output=model(input)\n",
        "    \n",
        "    index=output.data.numpy().argmax()\n",
        "    \n",
        "    pred=classes[index]\n",
        "    \n",
        "    return pred"
      ],
      "execution_count": 29,
      "outputs": []
    },
    {
      "cell_type": "code",
      "metadata": {
        "id": "sO_TipT8LlUJ"
      },
      "source": [
        "images_path=glob.glob(pred_path+'/*.jpg')"
      ],
      "execution_count": 30,
      "outputs": []
    },
    {
      "cell_type": "code",
      "metadata": {
        "id": "97typEMxNsES",
        "colab": {
          "base_uri": "https://localhost:8080/"
        },
        "outputId": "237faea5-2309-4dfb-a4b4-b2f95f6a8fff"
      },
      "source": [
        "images_path"
      ],
      "execution_count": 31,
      "outputs": [
        {
          "output_type": "execute_result",
          "data": {
            "text/plain": [
              "['/content/drive/My Drive/test_real_fake/easy_101_0010.jpg',\n",
              " '/content/drive/My Drive/test_real_fake/easy_103_1111.jpg',\n",
              " '/content/drive/My Drive/test_real_fake/easy_102_0101.jpg',\n",
              " '/content/drive/My Drive/test_real_fake/easy_100_1111.jpg',\n",
              " '/content/drive/My Drive/test_real_fake/easy_106_0011.jpg',\n",
              " '/content/drive/My Drive/test_real_fake/easy_10_0001.jpg',\n",
              " '/content/drive/My Drive/test_real_fake/easy_105_1100.jpg',\n",
              " '/content/drive/My Drive/test_real_fake/easy_107_1011.jpg',\n",
              " '/content/drive/My Drive/test_real_fake/easy_108_1111.jpg',\n",
              " '/content/drive/My Drive/test_real_fake/easy_104_1000.jpg',\n",
              " '/content/drive/My Drive/test_real_fake/hard_10_1111.jpg',\n",
              " '/content/drive/My Drive/test_real_fake/hard_1_1111.jpg',\n",
              " '/content/drive/My Drive/test_real_fake/hard_7_1111.jpg',\n",
              " '/content/drive/My Drive/test_real_fake/hard_8_1000.jpg',\n",
              " '/content/drive/My Drive/test_real_fake/hard_6_1110.jpg',\n",
              " '/content/drive/My Drive/test_real_fake/hard_2_1111.jpg',\n",
              " '/content/drive/My Drive/test_real_fake/hard_3_1111.jpg',\n",
              " '/content/drive/My Drive/test_real_fake/hard_5_1111.jpg',\n",
              " '/content/drive/My Drive/test_real_fake/hard_4_1111.jpg',\n",
              " '/content/drive/My Drive/test_real_fake/hard_9_1111.jpg',\n",
              " '/content/drive/My Drive/test_real_fake/mid_10_1111.jpg',\n",
              " '/content/drive/My Drive/test_real_fake/mid_1_1101.jpg',\n",
              " '/content/drive/My Drive/test_real_fake/mid_2_1101.jpg',\n",
              " '/content/drive/My Drive/test_real_fake/mid_3_1100.jpg',\n",
              " '/content/drive/My Drive/test_real_fake/mid_7_1100.jpg',\n",
              " '/content/drive/My Drive/test_real_fake/real_00005.jpg',\n",
              " '/content/drive/My Drive/test_real_fake/real_00010.jpg',\n",
              " '/content/drive/My Drive/test_real_fake/real_00001.jpg',\n",
              " '/content/drive/My Drive/test_real_fake/mid_9_1110.jpg',\n",
              " '/content/drive/My Drive/test_real_fake/real_00007.jpg',\n",
              " '/content/drive/My Drive/test_real_fake/real_00006.jpg',\n",
              " '/content/drive/My Drive/test_real_fake/mid_5_0011.jpg',\n",
              " '/content/drive/My Drive/test_real_fake/mid_4_1111.jpg',\n",
              " '/content/drive/My Drive/test_real_fake/mid_8_1111.jpg',\n",
              " '/content/drive/My Drive/test_real_fake/real_00002.jpg',\n",
              " '/content/drive/My Drive/test_real_fake/real_00003.jpg',\n",
              " '/content/drive/My Drive/test_real_fake/mid_6_1111.jpg',\n",
              " '/content/drive/My Drive/test_real_fake/real_00004.jpg',\n",
              " '/content/drive/My Drive/test_real_fake/real_00008.jpg',\n",
              " '/content/drive/My Drive/test_real_fake/real_00009.jpg']"
            ]
          },
          "metadata": {},
          "execution_count": 31
        }
      ]
    },
    {
      "cell_type": "code",
      "metadata": {
        "id": "8EIIHV93NwcS"
      },
      "source": [
        "pred_dict={}\n",
        "\n",
        "for i in images_path:\n",
        "    pred_dict[i[39:]]=prediction(i,transformer)"
      ],
      "execution_count": 32,
      "outputs": []
    },
    {
      "cell_type": "code",
      "metadata": {
        "id": "7RiMNraJOERs",
        "colab": {
          "base_uri": "https://localhost:8080/"
        },
        "outputId": "50d6c460-24f7-40c0-d30f-b0a8f1a1907d"
      },
      "source": [
        "pred_dict"
      ],
      "execution_count": 33,
      "outputs": [
        {
          "output_type": "execute_result",
          "data": {
            "text/plain": [
              "{'easy_100_1111.jpg': 'FAKE_FAKE',\n",
              " 'easy_101_0010.jpg': 'FAKE_FAKE',\n",
              " 'easy_102_0101.jpg': 'FAKE_FAKE',\n",
              " 'easy_103_1111.jpg': 'FAKE_FAKE',\n",
              " 'easy_104_1000.jpg': 'FAKE_FAKE',\n",
              " 'easy_105_1100.jpg': 'FAKE_FAKE',\n",
              " 'easy_106_0011.jpg': 'FAKE_FAKE',\n",
              " 'easy_107_1011.jpg': 'FAKE_FAKE',\n",
              " 'easy_108_1111.jpg': 'FAKE_FAKE',\n",
              " 'easy_10_0001.jpg': 'FAKE_FAKE',\n",
              " 'hard_10_1111.jpg': 'FAKE_FAKE',\n",
              " 'hard_1_1111.jpg': 'FAKE_FAKE',\n",
              " 'hard_2_1111.jpg': 'FAKE_FAKE',\n",
              " 'hard_3_1111.jpg': 'FAKE_FAKE',\n",
              " 'hard_4_1111.jpg': 'FAKE_FAKE',\n",
              " 'hard_5_1111.jpg': 'FAKE_FAKE',\n",
              " 'hard_6_1110.jpg': 'FAKE_FAKE',\n",
              " 'hard_7_1111.jpg': 'FAKE_FAKE',\n",
              " 'hard_8_1000.jpg': 'FAKE_FAKE',\n",
              " 'hard_9_1111.jpg': 'FAKE_FAKE',\n",
              " 'mid_10_1111.jpg': 'FAKE_FAKE',\n",
              " 'mid_1_1101.jpg': 'FAKE_FAKE',\n",
              " 'mid_2_1101.jpg': 'FAKE_FAKE',\n",
              " 'mid_3_1100.jpg': 'FAKE_FAKE',\n",
              " 'mid_4_1111.jpg': 'FAKE_FAKE',\n",
              " 'mid_5_0011.jpg': 'FAKE_FAKE',\n",
              " 'mid_6_1111.jpg': 'FAKE_FAKE',\n",
              " 'mid_7_1100.jpg': 'FAKE_FAKE',\n",
              " 'mid_8_1111.jpg': 'FAKE_FAKE',\n",
              " 'mid_9_1110.jpg': 'FAKE_FAKE',\n",
              " 'real_00001.jpg': 'REAL_REAL',\n",
              " 'real_00002.jpg': 'REAL_REAL',\n",
              " 'real_00003.jpg': 'REAL_REAL',\n",
              " 'real_00004.jpg': 'REAL_REAL',\n",
              " 'real_00005.jpg': 'REAL_REAL',\n",
              " 'real_00006.jpg': 'REAL_REAL',\n",
              " 'real_00007.jpg': 'REAL_REAL',\n",
              " 'real_00008.jpg': 'REAL_REAL',\n",
              " 'real_00009.jpg': 'REAL_REAL',\n",
              " 'real_00010.jpg': 'REAL_REAL'}"
            ]
          },
          "metadata": {},
          "execution_count": 33
        }
      ]
    }
  ]
}