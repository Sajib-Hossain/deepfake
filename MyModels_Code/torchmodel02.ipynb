{
  "nbformat": 4,
  "nbformat_minor": 0,
  "metadata": {
    "colab": {
      "name": "torchmodel02.ipynb",
      "provenance": []
    },
    "kernelspec": {
      "name": "python3",
      "display_name": "Python 3"
    },
    "language_info": {
      "name": "python"
    },
    "accelerator": "GPU"
  },
  "cells": [
    {
      "cell_type": "code",
      "metadata": {
        "colab": {
          "base_uri": "https://localhost:8080/"
        },
        "id": "wbeJrG8U-QTk",
        "outputId": "88c73b9d-43be-4658-e8ef-0a7aa5b3a83a"
      },
      "source": [
        "from google.colab import drive\n",
        "drive.mount('/content/drive')"
      ],
      "execution_count": 33,
      "outputs": [
        {
          "output_type": "stream",
          "name": "stdout",
          "text": [
            "Drive already mounted at /content/drive; to attempt to forcibly remount, call drive.mount(\"/content/drive\", force_remount=True).\n"
          ]
        }
      ]
    },
    {
      "cell_type": "code",
      "metadata": {
        "id": "nhQUbMNn-ZLs"
      },
      "source": [
        "import os\n",
        "import glob\n",
        "import time\n",
        "import cv2\n",
        "from PIL import Image\n",
        "import numpy as np\n",
        "import pandas as pd\n",
        "from matplotlib import pyplot as plt\n",
        "import torch\n",
        "import torch.nn as nn\n",
        "import torchvision\n",
        "from torchvision.transforms import transforms\n",
        "from torch.utils.data import DataLoader\n",
        "from torch.optim import Adam\n",
        "from torch.autograd import Variable\n",
        "import pathlib"
      ],
      "execution_count": 34,
      "outputs": []
    },
    {
      "cell_type": "code",
      "metadata": {
        "id": "DL7vqxqp-pBG"
      },
      "source": [
        "device = torch.device('cuda' if torch.cuda.is_available() else 'cpu')"
      ],
      "execution_count": 35,
      "outputs": []
    },
    {
      "cell_type": "code",
      "metadata": {
        "colab": {
          "base_uri": "https://localhost:8080/"
        },
        "id": "MXFX2hhk-sFO",
        "outputId": "61b4d3f8-7aec-4e62-8b59-ac5073d0084b"
      },
      "source": [
        "device"
      ],
      "execution_count": 36,
      "outputs": [
        {
          "output_type": "execute_result",
          "data": {
            "text/plain": [
              "device(type='cuda')"
            ]
          },
          "metadata": {},
          "execution_count": 36
        }
      ]
    },
    {
      "cell_type": "code",
      "metadata": {
        "id": "SIHdwK6C-vi0"
      },
      "source": [
        "transformer = transforms.Compose([\n",
        "     transforms.Resize((128, 128)),\n",
        "     #transforms.RandomHorizontalFlip(),\n",
        "     transforms.ToTensor(),\n",
        "     transforms.Normalize([0.5, 0.5, 0.5],\n",
        "                          [0.5, 0.5, 0.5])\n",
        "])"
      ],
      "execution_count": 46,
      "outputs": []
    },
    {
      "cell_type": "code",
      "metadata": {
        "id": "GCAlEWsP_K6n"
      },
      "source": [
        "train_path='/content/drive/My Drive/real_and_fake_face'\n",
        "\n",
        "train_loader=DataLoader(\n",
        "    torchvision.datasets.ImageFolder(train_path,transform=transformer),\n",
        "    batch_size=64, shuffle=True\n",
        ")"
      ],
      "execution_count": 47,
      "outputs": []
    },
    {
      "cell_type": "code",
      "metadata": {
        "colab": {
          "base_uri": "https://localhost:8080/"
        },
        "id": "4-1xnCjR_RKm",
        "outputId": "710e8a96-c43a-49cc-fa4d-63b73444cfa5"
      },
      "source": [
        "root=pathlib.Path(train_path)\n",
        "classes=sorted([j.name.split('/')[-1] for j in root.iterdir()])\n",
        "print(classes)"
      ],
      "execution_count": 48,
      "outputs": [
        {
          "output_type": "stream",
          "name": "stdout",
          "text": [
            "['training_fake', 'training_real']\n"
          ]
        }
      ]
    },
    {
      "cell_type": "markdown",
      "metadata": {
        "id": "_QLCp7SF_aR9"
      },
      "source": [
        "## **CNN**"
      ]
    },
    {
      "cell_type": "code",
      "metadata": {
        "id": "fu3ZaEdi_sDO"
      },
      "source": [
        "class network(nn.Module):\n",
        "    def __init__(self):\n",
        "        super(network,self).__init__()\n",
        "        self.keep = 0.5\n",
        "\n",
        "        self.conv1=nn.Conv2d(in_channels=3,out_channels=8,kernel_size=3,stride=1,padding=1)\n",
        "        self.bn1=nn.BatchNorm2d(num_features=8)\n",
        "        self.relu1=nn.ReLU()\n",
        "        self.pool1=nn.MaxPool2d(kernel_size=2, stride=2)\n",
        "\n",
        "        self.conv2=nn.Conv2d(in_channels=8,out_channels=16,kernel_size=3,stride=1,padding=1)\n",
        "        self.bn2=nn.BatchNorm2d(num_features=16)\n",
        "        self.relu2=nn.ReLU()\n",
        "\n",
        "        self.conv3=nn.Conv2d(in_channels=16,out_channels=32,kernel_size=3,stride=1,padding=1)\n",
        "        self.bn3=nn.BatchNorm2d(num_features=32)\n",
        "        self.relu3=nn.ReLU()\n",
        "\n",
        "        self.pool2=nn.MaxPool2d(kernel_size=2, stride=2, padding=1)\n",
        "        self.conv4=nn.Conv2d(in_channels=32,out_channels=16,kernel_size=3,stride=1,padding=1)\n",
        "        self.bn4=nn.BatchNorm2d(num_features=16)\n",
        "        self.relu4=nn.ReLU()\n",
        "        \n",
        "\n",
        "        self.flatten = nn.Flatten()\n",
        "\n",
        "        self.fc=nn.Linear(in_features=33*33*16,out_features=625, bias=True)\n",
        "        self.relu5=nn.ReLU()\n",
        "        self.dout=nn.Dropout(p=1 - self.keep)\n",
        "\n",
        "        self.outputs = torch.nn.Linear(625, 2, bias=True)\n",
        "        \n",
        "                \n",
        "    def forward(self,input):\n",
        "        output=self.conv1(input)\n",
        "        output=self.bn1(output)\n",
        "        output=self.relu1(output)\n",
        "            \n",
        "        output=self.pool1(output)\n",
        "            \n",
        "        output=self.conv2(output)\n",
        "        output=self.bn2(output)\n",
        "        output=self.relu2(output)\n",
        "            \n",
        "        output=self.conv3(output)\n",
        "        output=self.bn3(output)\n",
        "        output=self.relu3(output)\n",
        "\n",
        "        output=self.pool2(output)\n",
        "\n",
        "        output=self.conv4(output)\n",
        "        output=self.bn4(output)\n",
        "        output=self.relu4(output)\n",
        "\n",
        "        output=self.flatten(output)\n",
        "                        \n",
        "        #output=output.view(-1,32*75*75)\n",
        "        output=self.fc(output)\n",
        "\n",
        "\n",
        "        output=self.relu5(output)\n",
        "        output=self.dout(output)\n",
        "            \n",
        "            \n",
        "        #output=self.fc(output)\n",
        "        output=self.outputs(output) \n",
        "\n",
        "        return output\n"
      ],
      "execution_count": 49,
      "outputs": []
    },
    {
      "cell_type": "code",
      "metadata": {
        "id": "-OUMH7EGAhff"
      },
      "source": [
        "model=network().to(device)"
      ],
      "execution_count": 50,
      "outputs": []
    },
    {
      "cell_type": "code",
      "metadata": {
        "id": "PVWiAWMJAmg-"
      },
      "source": [
        "optimizer=Adam(model.parameters(),lr=1e-3,weight_decay=0.0001)\n",
        "loss_function=nn.CrossEntropyLoss()"
      ],
      "execution_count": 51,
      "outputs": []
    },
    {
      "cell_type": "code",
      "metadata": {
        "id": "9BwjfZfZAtLu"
      },
      "source": [
        "num_epochs=30"
      ],
      "execution_count": 56,
      "outputs": []
    },
    {
      "cell_type": "code",
      "metadata": {
        "colab": {
          "base_uri": "https://localhost:8080/"
        },
        "id": "mmZrFiy8Awjm",
        "outputId": "12d33387-69be-4f59-d1f7-c8dcd7db3629"
      },
      "source": [
        "train_count=len(glob.glob(train_path+'/**/*.jpg'))\n",
        "print(train_count)"
      ],
      "execution_count": 57,
      "outputs": [
        {
          "output_type": "stream",
          "name": "stdout",
          "text": [
            "2041\n"
          ]
        }
      ]
    },
    {
      "cell_type": "code",
      "metadata": {
        "colab": {
          "base_uri": "https://localhost:8080/"
        },
        "id": "pSbT2NasA0DG",
        "outputId": "03e473ef-f12d-4044-ed31-157cbe930a9b"
      },
      "source": [
        "best_accuracy=0.0\n",
        "\n",
        "loss_val = []\n",
        "accurecy_val = []\n",
        "\n",
        "for epoch in range(num_epochs):\n",
        "    \n",
        "    #Evaluation and training on training dataset\n",
        "    model.train()\n",
        "    train_accuracy=0.0\n",
        "    train_loss=0.0\n",
        "    \n",
        "    for i, (images,labels) in enumerate(train_loader):\n",
        "        if torch.cuda.is_available():\n",
        "            images=Variable(images.cuda())\n",
        "            labels=Variable(labels.cuda())\n",
        "            \n",
        "        optimizer.zero_grad()\n",
        "        \n",
        "        outputs=model(images)\n",
        "        loss=loss_function(outputs,labels)\n",
        "        loss.backward()\n",
        "        optimizer.step()\n",
        "        \n",
        "        \n",
        "        train_loss+= loss.cpu().data*images.size(0)\n",
        "        _,prediction=torch.max(outputs.data,1)\n",
        "        \n",
        "        train_accuracy+=int(torch.sum(prediction==labels.data))\n",
        "        \n",
        "    train_accuracy=train_accuracy/train_count\n",
        "    train_loss=train_loss/train_count\n",
        "\n",
        "    loss_val.append(train_loss)\n",
        "    accurecy_val.append(train_accuracy)\n",
        "    \n",
        "    \n",
        "    print('Epoch: '+str(epoch)+' Train Loss: '+str(train_loss)+' Train Accuracy: '+str(train_accuracy))\n",
        "    \n",
        "    #Save the best model\n",
        "    if train_accuracy>best_accuracy:\n",
        "        torch.save(model,'/content/drive/My Drive/Models/my_best_model.model')\n",
        "        torch.save(model,'/content/drive/My Drive/Models/my_best_model.pth')\n",
        "        best_accuracy=train_accuracy"
      ],
      "execution_count": 58,
      "outputs": [
        {
          "output_type": "stream",
          "name": "stdout",
          "text": [
            "Epoch: 0 Train Loss: tensor(0.2225) Train Accuracy: 0.9152376286134248\n",
            "Epoch: 1 Train Loss: tensor(0.1751) Train Accuracy: 0.9416952474277315\n",
            "Epoch: 2 Train Loss: tensor(0.1209) Train Accuracy: 0.9583537481626654\n",
            "Epoch: 3 Train Loss: tensor(0.0947) Train Accuracy: 0.9671729544341009\n",
            "Epoch: 4 Train Loss: tensor(0.0945) Train Accuracy: 0.9706026457618814\n",
            "Epoch: 5 Train Loss: tensor(0.0768) Train Accuracy: 0.9804017638412543\n",
            "Epoch: 6 Train Loss: tensor(0.0803) Train Accuracy: 0.9764821166095051\n",
            "Epoch: 7 Train Loss: tensor(0.0631) Train Accuracy: 0.9813816756491915\n",
            "Epoch: 8 Train Loss: tensor(0.0502) Train Accuracy: 0.986281234688878\n",
            "Epoch: 9 Train Loss: tensor(0.0381) Train Accuracy: 0.9897109260166586\n",
            "Epoch: 10 Train Loss: tensor(0.0362) Train Accuracy: 0.9902008819206272\n",
            "Epoch: 11 Train Loss: tensor(0.0456) Train Accuracy: 0.9867711905928467\n",
            "Epoch: 12 Train Loss: tensor(0.0620) Train Accuracy: 0.9808917197452229\n",
            "Epoch: 13 Train Loss: tensor(0.0517) Train Accuracy: 0.9833414992650662\n",
            "Epoch: 14 Train Loss: tensor(0.0363) Train Accuracy: 0.9882410583047526\n",
            "Epoch: 15 Train Loss: tensor(0.0413) Train Accuracy: 0.9857912787849094\n",
            "Epoch: 16 Train Loss: tensor(0.0680) Train Accuracy: 0.9730524252817246\n",
            "Epoch: 17 Train Loss: tensor(0.0514) Train Accuracy: 0.9774620284174425\n",
            "Epoch: 18 Train Loss: tensor(0.0391) Train Accuracy: 0.9887310142087212\n",
            "Epoch: 19 Train Loss: tensor(0.0304) Train Accuracy: 0.9887310142087212\n",
            "Epoch: 20 Train Loss: tensor(0.0164) Train Accuracy: 0.9970602645761881\n",
            "Epoch: 21 Train Loss: tensor(0.0261) Train Accuracy: 0.993140617344439\n",
            "Epoch: 22 Train Loss: tensor(0.0264) Train Accuracy: 0.9897109260166586\n",
            "Epoch: 23 Train Loss: tensor(0.0351) Train Accuracy: 0.986281234688878\n",
            "Epoch: 24 Train Loss: tensor(0.0193) Train Accuracy: 0.9936305732484076\n",
            "Epoch: 25 Train Loss: tensor(0.0174) Train Accuracy: 0.994610485056345\n",
            "Epoch: 26 Train Loss: tensor(0.0125) Train Accuracy: 0.9951004409603136\n",
            "Epoch: 27 Train Loss: tensor(0.0173) Train Accuracy: 0.994610485056345\n",
            "Epoch: 28 Train Loss: tensor(0.0241) Train Accuracy: 0.993140617344439\n",
            "Epoch: 29 Train Loss: tensor(0.0271) Train Accuracy: 0.9906908378245958\n"
          ]
        }
      ]
    },
    {
      "cell_type": "code",
      "metadata": {
        "colab": {
          "base_uri": "https://localhost:8080/",
          "height": 298
        },
        "id": "lpJGIBbRBD8-",
        "outputId": "191195df-e51d-4953-80dd-37e6c2210846"
      },
      "source": [
        "fig, (ax1, ax2) = plt.subplots(2, sharex=True)\n",
        "ax1.plot(loss_val)\n",
        "ax1.legend(['train'])\n",
        "ax1.set_title('Loss')\n",
        "\n",
        "ax2.plot(accurecy_val)\n",
        "ax2.legend(['train'])\n",
        "ax2.set_title('Accuracy')"
      ],
      "execution_count": 59,
      "outputs": [
        {
          "output_type": "execute_result",
          "data": {
            "text/plain": [
              "Text(0.5, 1.0, 'Accuracy')"
            ]
          },
          "metadata": {},
          "execution_count": 59
        },
        {
          "output_type": "display_data",
          "data": {
            "image/png": "[encoded data removed]",
            "text/plain": [
              "<Figure size 432x288 with 2 Axes>"
            ]
          },
          "metadata": {
            "needs_background": "light"
          }
        }
      ]
    },
    {
      "cell_type": "code",
      "metadata": {
        "id": "jqdkoC8H_Ee1"
      },
      "source": [
        ""
      ],
      "execution_count": null,
      "outputs": []
    }
  ]
}