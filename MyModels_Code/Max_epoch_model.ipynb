{
  "nbformat": 4,
  "nbformat_minor": 0,
  "metadata": {
    "colab": {
      "name": "Max_epoch_model.ipynb",
      "provenance": []
    },
    "kernelspec": {
      "name": "python3",
      "display_name": "Python 3"
    },
    "language_info": {
      "name": "python"
    },
    "accelerator": "GPU"
  },
  "cells": [
    {
      "cell_type": "code",
      "metadata": {
        "colab": {
          "base_uri": "https://localhost:8080/"
        },
        "id": "_ST3i6sRt7J1",
        "outputId": "28ae1b2b-f1ac-485d-a085-5e272aab43cf"
      },
      "source": [
        "from google.colab import drive\n",
        "drive.mount('/content/drive')"
      ],
      "execution_count": 1,
      "outputs": [
        {
          "output_type": "stream",
          "name": "stdout",
          "text": [
            "Mounted at /content/drive\n"
          ]
        }
      ]
    },
    {
      "cell_type": "code",
      "metadata": {
        "id": "D2xwZiddt-_d"
      },
      "source": [
        "import os\n",
        "import glob\n",
        "import time\n",
        "import cv2\n",
        "from PIL import Image\n",
        "import numpy as np\n",
        "import pandas as pd\n",
        "from matplotlib import pyplot as plt\n",
        "import torch\n",
        "import torch.nn as nn\n",
        "import torchvision\n",
        "from torchvision.transforms import transforms\n",
        "from torch.utils.data import DataLoader\n",
        "from torch.optim import Adam\n",
        "from torch.autograd import Variable\n",
        "import pathlib"
      ],
      "execution_count": 2,
      "outputs": []
    },
    {
      "cell_type": "code",
      "metadata": {
        "id": "OJSPm3_suLcH"
      },
      "source": [
        "device = torch.device('cuda' if torch.cuda.is_available() else 'cpu')"
      ],
      "execution_count": 3,
      "outputs": []
    },
    {
      "cell_type": "code",
      "metadata": {
        "id": "VjV0kIh3ucxv"
      },
      "source": [
        "\n",
        "transformer = transforms.Compose([\n",
        "     transforms.Resize((128, 128)),\n",
        "     #transforms.RandomHorizontalFlip(),\n",
        "     transforms.ToTensor(),\n",
        "     transforms.Normalize([0.5, 0.5, 0.5],\n",
        "                          [0.5, 0.5, 0.5])\n",
        "])"
      ],
      "execution_count": 4,
      "outputs": []
    },
    {
      "cell_type": "code",
      "metadata": {
        "id": "Dv8uwe-pufKf"
      },
      "source": [
        "\n",
        "train_path='/content/drive/My Drive/real_and_fake_face'\n",
        "\n",
        "train_loader=DataLoader(\n",
        "    torchvision.datasets.ImageFolder(train_path,transform=transformer),\n",
        "    batch_size=64, shuffle=True\n",
        ")"
      ],
      "execution_count": 5,
      "outputs": []
    },
    {
      "cell_type": "code",
      "metadata": {
        "colab": {
          "base_uri": "https://localhost:8080/"
        },
        "id": "7R9-V0IKuizn",
        "outputId": "c7142083-79c0-449f-bb08-49a2e9d369ae"
      },
      "source": [
        "root=pathlib.Path(train_path)\n",
        "classes=sorted([j.name.split('/')[-1] for j in root.iterdir()])\n",
        "print(classes)"
      ],
      "execution_count": 6,
      "outputs": [
        {
          "output_type": "stream",
          "name": "stdout",
          "text": [
            "['training_fake', 'training_real']\n"
          ]
        }
      ]
    },
    {
      "cell_type": "code",
      "metadata": {
        "id": "TNYPDbv4ul0H"
      },
      "source": [
        "transformer=transforms.Compose([\n",
        "    transforms.Resize((128,128)),\n",
        "    transforms.ToTensor(),\n",
        "    transforms.Normalize([0.5,0.5,0.5], \n",
        "                        [0.5,0.5,0.5])\n",
        "])"
      ],
      "execution_count": 7,
      "outputs": []
    },
    {
      "cell_type": "code",
      "metadata": {
        "id": "Agn-9_MY7Jl1"
      },
      "source": [
        "class network(nn.Module):\n",
        "    def __init__(self):\n",
        "        super(network,self).__init__()\n",
        "        self.keep = 0.5\n",
        "\n",
        "        self.conv1=nn.Conv2d(in_channels=3,out_channels=8,kernel_size=3,stride=1,padding=1)\n",
        "        self.bn1=nn.BatchNorm2d(num_features=8)\n",
        "        self.relu1=nn.ReLU()\n",
        "        self.pool1=nn.MaxPool2d(kernel_size=2, stride=2)\n",
        "\n",
        "        self.conv2=nn.Conv2d(in_channels=8,out_channels=16,kernel_size=3,stride=1,padding=1)\n",
        "        self.bn2=nn.BatchNorm2d(num_features=16)\n",
        "        self.relu2=nn.ReLU()\n",
        "\n",
        "        self.conv3=nn.Conv2d(in_channels=16,out_channels=32,kernel_size=3,stride=1,padding=1)\n",
        "        self.bn3=nn.BatchNorm2d(num_features=32)\n",
        "        self.relu3=nn.ReLU()\n",
        "\n",
        "        self.pool2=nn.MaxPool2d(kernel_size=2, stride=2, padding=1)\n",
        "        self.conv4=nn.Conv2d(in_channels=32,out_channels=16,kernel_size=3,stride=1,padding=1)\n",
        "        self.bn4=nn.BatchNorm2d(num_features=16)\n",
        "        self.relu4=nn.ReLU()\n",
        "        \n",
        "\n",
        "        self.flatten = nn.Flatten()\n",
        "\n",
        "        self.fc=nn.Linear(in_features=33*33*16,out_features=625, bias=True)\n",
        "        self.relu5=nn.ReLU()\n",
        "        self.dout=nn.Dropout(p=1 - self.keep)\n",
        "\n",
        "        self.outputs = torch.nn.Linear(625, 2, bias=True)\n",
        "        \n",
        "                \n",
        "    def forward(self,input):\n",
        "        output=self.conv1(input)\n",
        "        output=self.bn1(output)\n",
        "        output=self.relu1(output)\n",
        "            \n",
        "        output=self.pool1(output)\n",
        "            \n",
        "        output=self.conv2(output)\n",
        "        output=self.bn2(output)\n",
        "        output=self.relu2(output)\n",
        "            \n",
        "        output=self.conv3(output)\n",
        "        output=self.bn3(output)\n",
        "        output=self.relu3(output)\n",
        "\n",
        "        output=self.pool2(output)\n",
        "\n",
        "        output=self.conv4(output)\n",
        "        output=self.bn4(output)\n",
        "        output=self.relu4(output)\n",
        "\n",
        "        output=self.flatten(output)\n",
        "                        \n",
        "        #output=output.view(-1,32*75*75)\n",
        "        output=self.fc(output)\n",
        "\n",
        "\n",
        "        output=self.relu5(output)\n",
        "        output=self.dout(output)\n",
        "            \n",
        "            \n",
        "        #output=self.fc(output)\n",
        "        output=self.outputs(output) \n",
        "\n",
        "        return output"
      ],
      "execution_count": 8,
      "outputs": []
    },
    {
      "cell_type": "code",
      "metadata": {
        "id": "he-WgB1-939F"
      },
      "source": [
        "model=network().to(device)"
      ],
      "execution_count": 9,
      "outputs": []
    },
    {
      "cell_type": "code",
      "metadata": {
        "id": "bA4dOI7GAOF-"
      },
      "source": [
        "optimizer=Adam(model.parameters(),lr=1e-3,weight_decay=0.0001)\n",
        "loss_function=nn.CrossEntropyLoss()"
      ],
      "execution_count": 10,
      "outputs": []
    },
    {
      "cell_type": "code",
      "metadata": {
        "id": "wgQXLRu-AS1C"
      },
      "source": [
        "num_epochs=90"
      ],
      "execution_count": 11,
      "outputs": []
    },
    {
      "cell_type": "code",
      "metadata": {
        "colab": {
          "base_uri": "https://localhost:8080/"
        },
        "id": "vII4P_AAAWDK",
        "outputId": "f461e8af-c65f-423b-b6e8-5e374f9c1bd3"
      },
      "source": [
        "\n",
        "train_count=len(glob.glob(train_path+'/**/*.jpg'))\n",
        "print(train_count)"
      ],
      "execution_count": 12,
      "outputs": [
        {
          "output_type": "stream",
          "name": "stdout",
          "text": [
            "2041\n"
          ]
        }
      ]
    },
    {
      "cell_type": "code",
      "metadata": {
        "colab": {
          "base_uri": "https://localhost:8080/"
        },
        "id": "1m3MfD9iAbTp",
        "outputId": "91787963-4a16-4f00-de16-5a6126405930"
      },
      "source": [
        "best_accuracy=0.0\n",
        "\n",
        "loss_val = []\n",
        "accurecy_val = []\n",
        "\n",
        "for epoch in range(num_epochs):\n",
        "    \n",
        "    #Evaluation and training on training dataset\n",
        "    model.train()\n",
        "    train_accuracy=0.0\n",
        "    train_loss=0.0\n",
        "    \n",
        "    for i, (images,labels) in enumerate(train_loader):\n",
        "        if torch.cuda.is_available():\n",
        "            images=Variable(images.cuda())\n",
        "            labels=Variable(labels.cuda())\n",
        "            \n",
        "        optimizer.zero_grad()\n",
        "        \n",
        "        outputs=model(images)\n",
        "        loss=loss_function(outputs,labels)\n",
        "        loss.backward()\n",
        "        optimizer.step()\n",
        "        \n",
        "        \n",
        "        train_loss+= loss.cpu().data*images.size(0)\n",
        "        _,prediction=torch.max(outputs.data,1)\n",
        "        \n",
        "        train_accuracy+=int(torch.sum(prediction==labels.data))\n",
        "        \n",
        "    train_accuracy=train_accuracy/train_count\n",
        "    train_loss=train_loss/train_count\n",
        "\n",
        "    loss_val.append(train_loss)\n",
        "    accurecy_val.append(train_accuracy)\n",
        "    \n",
        "    \n",
        "    print('Epoch: '+str(epoch)+' Train Loss: '+str(train_loss)+' Train Accuracy: '+str(train_accuracy))\n",
        "    \n",
        "    #Save the best model\n",
        "    if train_accuracy>best_accuracy:\n",
        "        torch.save(model.state_dict(),'/content/drive/My Drive/Models/mxepmodel.pth')\n",
        "        best_accuracy=train_accuracy"
      ],
      "execution_count": 13,
      "outputs": [
        {
          "output_type": "stream",
          "name": "stderr",
          "text": [
            "/usr/local/lib/python3.7/dist-packages/torch/nn/functional.py:718: UserWarning: Named tensors and all their associated APIs are an experimental feature and subject to change. Please do not use them for anything important until they are released as stable. (Triggered internally at  /pytorch/c10/core/TensorImpl.h:1156.)\n",
            "  return torch.max_pool2d(input, kernel_size, stride, padding, dilation, ceil_mode)\n"
          ]
        },
        {
          "output_type": "stream",
          "name": "stdout",
          "text": [
            "Epoch: 0 Train Loss: tensor(2.4252) Train Accuracy: 0.5002449779519843\n",
            "Epoch: 1 Train Loss: tensor(0.6652) Train Accuracy: 0.6085252327290543\n",
            "Epoch: 2 Train Loss: tensor(0.6307) Train Accuracy: 0.636452719255267\n",
            "Epoch: 3 Train Loss: tensor(0.6123) Train Accuracy: 0.6575208231259186\n",
            "Epoch: 4 Train Loss: tensor(0.5683) Train Accuracy: 0.7035766780989711\n",
            "Epoch: 5 Train Loss: tensor(0.5457) Train Accuracy: 0.7207251347378736\n",
            "Epoch: 6 Train Loss: tensor(0.5098) Train Accuracy: 0.7437530622243999\n",
            "Epoch: 7 Train Loss: tensor(0.4491) Train Accuracy: 0.7878490935815776\n",
            "Epoch: 8 Train Loss: tensor(0.3857) Train Accuracy: 0.8324350808427241\n",
            "Epoch: 9 Train Loss: tensor(0.3371) Train Accuracy: 0.8530132288094071\n",
            "Epoch: 10 Train Loss: tensor(0.2931) Train Accuracy: 0.8838804507594317\n",
            "Epoch: 11 Train Loss: tensor(0.2402) Train Accuracy: 0.9113179813816756\n",
            "Epoch: 12 Train Loss: tensor(0.1806) Train Accuracy: 0.9372856442920137\n",
            "Epoch: 13 Train Loss: tensor(0.1472) Train Accuracy: 0.953454189122979\n",
            "Epoch: 14 Train Loss: tensor(0.1158) Train Accuracy: 0.9661930426261637\n",
            "Epoch: 15 Train Loss: tensor(0.1069) Train Accuracy: 0.9671729544341009\n",
            "Epoch: 16 Train Loss: tensor(0.0891) Train Accuracy: 0.9735423811856933\n",
            "Epoch: 17 Train Loss: tensor(0.0792) Train Accuracy: 0.9764821166095051\n",
            "Epoch: 18 Train Loss: tensor(0.0800) Train Accuracy: 0.9730524252817246\n",
            "Epoch: 19 Train Loss: tensor(0.0766) Train Accuracy: 0.9735423811856933\n",
            "Epoch: 20 Train Loss: tensor(0.0643) Train Accuracy: 0.9804017638412543\n",
            "Epoch: 21 Train Loss: tensor(0.0501) Train Accuracy: 0.9877511024007839\n",
            "Epoch: 22 Train Loss: tensor(0.0460) Train Accuracy: 0.9843214110730034\n",
            "Epoch: 23 Train Loss: tensor(0.0368) Train Accuracy: 0.9906908378245958\n",
            "Epoch: 24 Train Loss: tensor(0.0319) Train Accuracy: 0.9911807937285644\n",
            "Epoch: 25 Train Loss: tensor(0.0438) Train Accuracy: 0.9872611464968153\n",
            "Epoch: 26 Train Loss: tensor(0.0502) Train Accuracy: 0.9813816756491915\n",
            "Epoch: 27 Train Loss: tensor(0.0416) Train Accuracy: 0.9887310142087212\n",
            "Epoch: 28 Train Loss: tensor(0.0492) Train Accuracy: 0.9838314551690348\n",
            "Epoch: 29 Train Loss: tensor(0.0295) Train Accuracy: 0.9911807937285644\n",
            "Epoch: 30 Train Loss: tensor(0.0454) Train Accuracy: 0.9843214110730034\n",
            "Epoch: 31 Train Loss: tensor(0.0369) Train Accuracy: 0.9882410583047526\n",
            "Epoch: 32 Train Loss: tensor(0.0315) Train Accuracy: 0.9897109260166586\n",
            "Epoch: 33 Train Loss: tensor(0.0417) Train Accuracy: 0.9833414992650662\n",
            "Epoch: 34 Train Loss: tensor(0.0346) Train Accuracy: 0.9892209701126898\n",
            "Epoch: 35 Train Loss: tensor(0.0194) Train Accuracy: 0.9936305732484076\n",
            "Epoch: 36 Train Loss: tensor(0.0605) Train Accuracy: 0.9784419402253797\n",
            "Epoch: 37 Train Loss: tensor(0.0512) Train Accuracy: 0.9804017638412543\n",
            "Epoch: 38 Train Loss: tensor(0.0407) Train Accuracy: 0.9867711905928467\n",
            "Epoch: 39 Train Loss: tensor(0.0465) Train Accuracy: 0.979421852033317\n",
            "Epoch: 40 Train Loss: tensor(0.0663) Train Accuracy: 0.9764821166095051\n",
            "Epoch: 41 Train Loss: tensor(0.0462) Train Accuracy: 0.9799118079372856\n",
            "Epoch: 42 Train Loss: tensor(0.0342) Train Accuracy: 0.9877511024007839\n",
            "Epoch: 43 Train Loss: tensor(0.0609) Train Accuracy: 0.9779519843214111\n",
            "Epoch: 44 Train Loss: tensor(0.0510) Train Accuracy: 0.9799118079372856\n",
            "Epoch: 45 Train Loss: tensor(0.0587) Train Accuracy: 0.9804017638412543\n",
            "Epoch: 46 Train Loss: tensor(0.0477) Train Accuracy: 0.9823615874571289\n",
            "Epoch: 47 Train Loss: tensor(0.0353) Train Accuracy: 0.9877511024007839\n",
            "Epoch: 48 Train Loss: tensor(0.0395) Train Accuracy: 0.9892209701126898\n",
            "Epoch: 49 Train Loss: tensor(0.0275) Train Accuracy: 0.9906908378245958\n",
            "Epoch: 50 Train Loss: tensor(0.0281) Train Accuracy: 0.9906908378245958\n",
            "Epoch: 51 Train Loss: tensor(0.0243) Train Accuracy: 0.993140617344439\n",
            "Epoch: 52 Train Loss: tensor(0.0202) Train Accuracy: 0.9936305732484076\n",
            "Epoch: 53 Train Loss: tensor(0.0169) Train Accuracy: 0.9941205291523763\n",
            "Epoch: 54 Train Loss: tensor(0.0151) Train Accuracy: 0.9941205291523763\n",
            "Epoch: 55 Train Loss: tensor(0.0122) Train Accuracy: 0.9965703086722195\n",
            "Epoch: 56 Train Loss: tensor(0.0239) Train Accuracy: 0.9921607055365017\n",
            "Epoch: 57 Train Loss: tensor(0.0275) Train Accuracy: 0.9882410583047526\n",
            "Epoch: 58 Train Loss: tensor(0.0204) Train Accuracy: 0.9921607055365017\n",
            "Epoch: 59 Train Loss: tensor(0.0709) Train Accuracy: 0.9710926016658501\n",
            "Epoch: 60 Train Loss: tensor(0.0398) Train Accuracy: 0.9853013228809407\n",
            "Epoch: 61 Train Loss: tensor(0.0411) Train Accuracy: 0.9813816756491915\n",
            "Epoch: 62 Train Loss: tensor(0.0455) Train Accuracy: 0.979421852033317\n",
            "Epoch: 63 Train Loss: tensor(0.0281) Train Accuracy: 0.9911807937285644\n",
            "Epoch: 64 Train Loss: tensor(0.0169) Train Accuracy: 0.994610485056345\n",
            "Epoch: 65 Train Loss: tensor(0.0119) Train Accuracy: 0.9951004409603136\n",
            "Epoch: 66 Train Loss: tensor(0.0261) Train Accuracy: 0.9882410583047526\n",
            "Epoch: 67 Train Loss: tensor(0.0310) Train Accuracy: 0.9892209701126898\n",
            "Epoch: 68 Train Loss: tensor(0.0338) Train Accuracy: 0.9867711905928467\n",
            "Epoch: 69 Train Loss: tensor(0.0252) Train Accuracy: 0.9906908378245958\n",
            "Epoch: 70 Train Loss: tensor(0.0162) Train Accuracy: 0.994610485056345\n",
            "Epoch: 71 Train Loss: tensor(0.0157) Train Accuracy: 0.9951004409603136\n",
            "Epoch: 72 Train Loss: tensor(0.0062) Train Accuracy: 0.9995100440960314\n",
            "Epoch: 73 Train Loss: tensor(0.0109) Train Accuracy: 0.9955903968642822\n",
            "Epoch: 74 Train Loss: tensor(0.0083) Train Accuracy: 0.9970602645761881\n",
            "Epoch: 75 Train Loss: tensor(0.0148) Train Accuracy: 0.9951004409603136\n",
            "Epoch: 76 Train Loss: tensor(0.0219) Train Accuracy: 0.9916707496325331\n",
            "Epoch: 77 Train Loss: tensor(0.0282) Train Accuracy: 0.9911807937285644\n",
            "Epoch: 78 Train Loss: tensor(0.0523) Train Accuracy: 0.9808917197452229\n",
            "Epoch: 79 Train Loss: tensor(0.0457) Train Accuracy: 0.9823615874571289\n",
            "Epoch: 80 Train Loss: tensor(0.0253) Train Accuracy: 0.9916707496325331\n",
            "Epoch: 81 Train Loss: tensor(0.0428) Train Accuracy: 0.9823615874571289\n",
            "Epoch: 82 Train Loss: tensor(0.0653) Train Accuracy: 0.9779519843214111\n",
            "Epoch: 83 Train Loss: tensor(0.0426) Train Accuracy: 0.9838314551690348\n",
            "Epoch: 84 Train Loss: tensor(0.0460) Train Accuracy: 0.9838314551690348\n",
            "Epoch: 85 Train Loss: tensor(0.0307) Train Accuracy: 0.9882410583047526\n",
            "Epoch: 86 Train Loss: tensor(0.0207) Train Accuracy: 0.9921607055365017\n",
            "Epoch: 87 Train Loss: tensor(0.0213) Train Accuracy: 0.9911807937285644\n",
            "Epoch: 88 Train Loss: tensor(0.0142) Train Accuracy: 0.9951004409603136\n",
            "Epoch: 89 Train Loss: tensor(0.0105) Train Accuracy: 0.9970602645761881\n"
          ]
        }
      ]
    },
    {
      "cell_type": "code",
      "metadata": {
        "colab": {
          "base_uri": "https://localhost:8080/",
          "height": 298
        },
        "id": "ghtiXnzSA3hp",
        "outputId": "a8e7d422-03fa-4ccd-ecb7-0367a63297a1"
      },
      "source": [
        "fig, (ax1, ax2) = plt.subplots(2, sharex=True)\n",
        "ax1.plot(loss_val)\n",
        "ax1.legend(['train'])\n",
        "ax1.set_title('Loss')\n",
        "\n",
        "ax2.plot(accurecy_val)\n",
        "ax2.legend(['train'])\n",
        "ax2.set_title('Accuracy')"
      ],
      "execution_count": 14,
      "outputs": [
        {
          "output_type": "execute_result",
          "data": {
            "text/plain": [
              "Text(0.5, 1.0, 'Accuracy')"
            ]
          },
          "metadata": {},
          "execution_count": 14
        },
        {
          "output_type": "display_data",
          "data": {
            "image/png": "[encoded data removed]",
            "text/plain": [
              "<Figure size 432x288 with 2 Axes>"
            ]
          },
          "metadata": {
            "needs_background": "light"
          }
        }
      ]
    },
    {
      "cell_type": "code",
      "metadata": {
        "id": "U1kV3SeRmzo0"
      },
      "source": [
        ""
      ],
      "execution_count": null,
      "outputs": []
    }
  ]
}